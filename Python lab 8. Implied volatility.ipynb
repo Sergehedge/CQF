{
 "cells": [
  {
   "cell_type": "markdown",
   "id": "69161a6f",
   "metadata": {},
   "source": [
    "### 1 Implied volatility"
   ]
  },
  {
   "cell_type": "markdown",
   "id": "7f835fff",
   "metadata": {},
   "source": [
    "Implied volatility (IV) is one of the most important parameter in options pricing. IV is determined\n",
    "by the current market price of option contracts on a particular underlying asset. IV is commonly\n",
    "represented as a percentage that indicates the annualized expected one standard deviation range\n",
    "for the underlying asset implied from the option prices.\n",
    "\n",
    "$IV\\; σ_{imp}$ is the volatility value $σ$ that makes the Black Scholes value of the option equal to the\n",
    "traded price of the option. In the Black-Scholes model, volatility is the only parameter that can’t be\n",
    "directly observed. All other parameters can be determined through market data and this parameter\n",
    "is determined by a numerical optimization technique given the Black-Scholes model"
   ]
  },
  {
   "cell_type": "markdown",
   "id": "506cd100",
   "metadata": {},
   "source": [
    "<b>Import Required Libraries</b>"
   ]
  },
  {
   "cell_type": "code",
   "execution_count": 1,
   "id": "4086c673",
   "metadata": {},
   "outputs": [],
   "source": [
    "# Data Manipulation\n",
    "from numpy import *\n",
    "from datetime import datetime\n",
    "from scipy.stats import norm\n",
    "\n",
    "# Import blackscholes object\n",
    "from BlackScholes import BS\n",
    "from tabulate import tabulate"
   ]
  },
  {
   "cell_type": "markdown",
   "id": "ee7f6824",
   "metadata": {},
   "source": [
    "### 2 Implied Volatility Formulation\n",
    "The Blark-Scholes exjuation describs the price of the option owe time as\n",
    "$$\n",
    "\\frac{\\partial V}{\\partial t}+\\frac{1}{2} \\sigma^2 S^2 \\frac{\\partial^2 V}{\\partial S^2}+r S \\frac{\\partial V}{\\partial S}-r V=0\n",
    "$$\n",
    "\n",
    "Solving the above coguation, we know that the value of a call option for a non-dividend paying stock is:\n",
    "$$\n",
    "C=S N\\left(d_1\\right)-K e^{-r i} N\\left(d_2\\right)\n",
    "$$\n",
    "\n",
    "and, the corresponding put option prios: is:\n",
    "$$\n",
    "P=K e^{-r t} N\\left(-d_2\\right)-S N\\left(-d_1\\right)\n",
    "$$\n",
    "\n",
    "where,\n",
    "$$\n",
    "\\begin{gathered}\n",
    "d_1-\\frac{1}{\\sigma \\sqrt{t}}\\left[\\ln \\left(\\frac{S}{K}\\right),\\left(r+\\frac{\\sigma^2}{2}\\right) t\\right] \\\\\n",
    "d_2=d_1-\\sigma \\sqrt{t} \\\\\n",
    "N(x)=\\frac{1}{\\sqrt{2 \\pi}} \\int_{-\\infty}^x \\mathrm{c}^{-\\frac{1}{2} x^2} d x\n",
    "\\end{gathered}\n",
    "$$\n",
    "\n",
    "$S$ is the spot price of the underlying asset $K$ is the strike price $r$ is the anmulized continuous compoundod risk free rate $\\sigma$ is the volatility of returns of the underlying asset $t$ is time to maturity (cxpressexd in ycars) $N(x)$ is the standard normal cumulative distribution\n",
    "\n",
    "We can look at the call and put equation as is function of the volatility parancter $\\sigma$. Finding implicd volatility thus recquires solving the noulincar problem $f(x)=0$ where $x=\\sigma$ given a starting estimate.\n",
    "For call options we have,\n",
    "$$\n",
    "f(x)=S N\\left(u_1\\right)-K r^{-r t} N\\left(u_2\\right)-C\n",
    "$$\n",
    "\n",
    "and for puts,\n",
    "$$\n",
    "f(x)=K e^{-r t} N\\left(-d_2\\right)-S N\\left(-d_1\\right)-P\n",
    "$$\n",
    "\n",
    "To solve the function when $f(x) = 0$, numerical precedures like Bisection or Newton’s method are\n",
    "employed.\n"
   ]
  },
  {
   "cell_type": "markdown",
   "id": "79897988",
   "metadata": {},
   "source": [
    "#### 2.1 Newton Method\n",
    "The Newton-Raphson method uses an iterative procedure to solve for a root using informaiton about\n",
    "the derivative of a function. The first-order derivation $f′$ of the function $f$ represents the tangent\n",
    "line and the approximation to the next value of $x$ is given as\n",
    "$$\n",
    "x_{1} = x−\\frac{f(x)}{f′(x)}\n",
    "$$\n",
    "\n",
    "The tangent line intersects the $x$ axis and $x_{1}$ that produces $y = 0$. The iterative process is repeated\n",
    "until a maximum iterations are reached or the difference between $x_{1}$ and $x$ are within acceptable\n",
    "values.\n",
    "\n",
    "This method requires to specify initial guess and expect the function to be differentiable. Newton\n",
    "approaches are extremely fast as the rate of convergence is quadractic. The downside to this\n",
    "approach is that it does not guarantee convergence if there are more than one root or when it\n",
    "reaches a local extremum."
   ]
  },
  {
   "cell_type": "code",
   "execution_count": 2,
   "id": "1e97b3b5",
   "metadata": {},
   "outputs": [],
   "source": [
    "def newton_iv(className, spot, strike, rate, dte, callprice=None, putprice=None):\n",
    "    \n",
    "    x0 = 1 # initial guess\n",
    "    h = 0.001 # step size\n",
    "    tolerance = 1e-7 # 7-digit accuracy is desired\n",
    "    epsilon = 1e-14 # do not divide by a number smaller than this, some kind of error / floor\n",
    "    maxiter = 200 # maximum number of iterations to execute\n",
    "    \n",
    "    # function whose root we are trying to find\n",
    "    # f(x) = Black Scholes Call price - Market Price - defining the f(x) here\n",
    "    if callprice:\n",
    "        f = lambda x: eval(className)(spot, strike, rate, dte, x).callPrice - callprice\n",
    "    if putprice:\n",
    "        f = lambda x: eval(className)(spot, strike, rate, dte, x).putPrice - putprice\n",
    "    \n",
    "    for i in range(maxiter):\n",
    "        y = f(x0) # starting with initial guess\n",
    "        yprime = (f(x0+h) - f(x0-h))/(2*h) # central difference, the derivative of the function\n",
    "        \n",
    "        if abs(yprime)<epsilon: # stop if the denominator is too small\n",
    "            break\n",
    "        x1 = x0 - y/yprime # perform Newton's computation\n",
    "        if (abs(x1-x0) <= tolerance*abs(x1)): # stop when the result is within the desired tolerance\n",
    "            break\n",
    "        x0=x1 # update x0 to start the process gain\n",
    "        \n",
    "    return x1 # x1 is a solution within tolerance and maximum number of iterations"
   ]
  },
  {
   "cell_type": "code",
   "execution_count": 3,
   "id": "703c200d",
   "metadata": {},
   "outputs": [
    {
     "data": {
      "text/plain": [
       "0.17657213831399154"
      ]
     },
     "execution_count": 3,
     "metadata": {},
     "output_type": "execute_result"
    }
   ],
   "source": [
    "# newton iv\n",
    "newton_iv('BS',100,100,0.02,1,callprice=8)"
   ]
  },
  {
   "cell_type": "markdown",
   "id": "44c306ca",
   "metadata": {},
   "source": [
    "#### 2.2 Bisection Method\n",
    "\n",
    "The bisection method is considered to be one of the simplest and robust root finding algorithm.\n",
    "Suppose, we know the two points of an interval $a$ and $b$, where $a < b$ and $f(a) < 0$ and $f(b) > 0$ lie\n",
    "along the continuous function and the mid-point of this interval $c = \\frac{a+2}{b}$, then we can evaluate the\n",
    "value as $f(c)$.\n",
    "\n",
    "Iteratively, we replace $c$ as either $a$ or $b$, thereby shortening the interval to find the root. If $f(c) = 0$\n",
    "or within acceptable value, we have a root. Bisection methods are stable and guarantee to converge.\n",
    "As it does not require knowledge of the derivative, it takes more computational time."
   ]
  },
  {
   "cell_type": "code",
   "execution_count": 4,
   "id": "68c7ed73",
   "metadata": {},
   "outputs": [],
   "source": [
    "# Bisection Method\n",
    "def bisection_iv(className, spot, strike, rate, dte, callprice=None, putprice=None, high=500.0, low=0.0):\n",
    "    \n",
    "    # this is market price\n",
    "    if callprice:\n",
    "        price = callprice\n",
    "    if putprice and not callprice:\n",
    "        price = putprice\n",
    "        \n",
    "    tolerance = 1e-7\n",
    "    \n",
    "    for i in range(1000):\n",
    "        mid = (high + low) / 2 # c= (a+b)/2\n",
    "        if mid < tolerance:\n",
    "            mid = tolerance\n",
    "        if callprice:\n",
    "            estimate = eval(className)(spot, strike, rate, dte, mid).callPrice #Blackscholes price \n",
    "        if putprice:\n",
    "            estimate = eval(className)(spot, strike, rate, dte, mid).putPrice\n",
    "        if round(estimate,6) == price:\n",
    "            break\n",
    "        elif estimate > price:\n",
    "            high = mid # replace c with b | b = c\n",
    "        elif estimate < price:\n",
    "            low = mid # replace c with a | a = c\n",
    "    return mid"
   ]
  },
  {
   "cell_type": "code",
   "execution_count": 5,
   "id": "2ec372bf",
   "metadata": {},
   "outputs": [
    {
     "data": {
      "text/plain": [
       "0.17657213902566582"
      ]
     },
     "execution_count": 5,
     "metadata": {},
     "output_type": "execute_result"
    }
   ],
   "source": [
    "# bisection iv\n",
    "bisection_iv('BS',100,100,0.02,1,callprice=8)"
   ]
  },
  {
   "cell_type": "code",
   "execution_count": 6,
   "id": "4c17b4eb",
   "metadata": {},
   "outputs": [
    {
     "data": {
      "text/plain": [
       "9.574618145714489"
      ]
     },
     "execution_count": 6,
     "metadata": {},
     "output_type": "execute_result"
    }
   ],
   "source": [
    "BS(100,100,0.05,1,bisection_iv('BS',100,100,0.02,1,callprice=8)).callPrice"
   ]
  },
  {
   "cell_type": "markdown",
   "id": "70a100c9",
   "metadata": {},
   "source": [
    "### 3 BS Implied Volatility\n",
    "\n",
    "Let’s now update our Blackscholes’ class to incorporate implied volatility."
   ]
  },
  {
   "cell_type": "code",
   "execution_count": 7,
   "id": "f8b6d95b",
   "metadata": {},
   "outputs": [
    {
     "name": "stdout",
     "output_type": "stream",
     "text": [
      "  Option Price     Delta      Gamma       Theta      Vega       Rho        IV\n",
      "--------------  --------  ---------  ----------  --------  --------  --------\n",
      "       7.00001  0.700586  0.0328807  -0.0136657  0.347385  0.630586  0.161085\n"
     ]
    }
   ],
   "source": [
    "# Initialize option\n",
    "option = BS(100,100,0.05,1,0.10565, callprice=9)\n",
    "header = ['Option Price', 'Delta', 'Gamma', 'Theta', 'Vega', 'Rho', 'IV']\n",
    "table = [[option.callPrice, option.callDelta, option.gamma, option.callTheta, option.vega, option.callRho, option.impvol]]\n",
    "print(tabulate(table,header))"
   ]
  },
  {
   "cell_type": "code",
   "execution_count": null,
   "id": "4c3466c5",
   "metadata": {},
   "outputs": [],
   "source": []
  },
  {
   "cell_type": "code",
   "execution_count": null,
   "id": "a4d54daa",
   "metadata": {},
   "outputs": [],
   "source": []
  },
  {
   "cell_type": "code",
   "execution_count": null,
   "id": "c128720a",
   "metadata": {},
   "outputs": [],
   "source": []
  },
  {
   "cell_type": "code",
   "execution_count": null,
   "id": "2507aad5",
   "metadata": {},
   "outputs": [],
   "source": []
  }
 ],
 "metadata": {
  "kernelspec": {
   "display_name": "Python 3 (ipykernel)",
   "language": "python",
   "name": "python3"
  },
  "language_info": {
   "codemirror_mode": {
    "name": "ipython",
    "version": 3
   },
   "file_extension": ".py",
   "mimetype": "text/x-python",
   "name": "python",
   "nbconvert_exporter": "python",
   "pygments_lexer": "ipython3",
   "version": "3.11.5"
  }
 },
 "nbformat": 4,
 "nbformat_minor": 5
}
